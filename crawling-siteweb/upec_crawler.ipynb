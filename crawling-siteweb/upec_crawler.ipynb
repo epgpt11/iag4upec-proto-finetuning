{
 "cells": [
  {
   "cell_type": "markdown",
   "id": "20026752",
   "metadata": {},
   "source": [
    "Crawler du site Langchain"
   ]
  },
  {
   "cell_type": "code",
   "execution_count": 1,
   "id": "27f32ed8",
   "metadata": {},
   "outputs": [],
   "source": [
    "import os\n",
    "import json\n",
    "import requests\n",
    "from bs4 import BeautifulSoup\n",
    "import json"
   ]
  },
  {
   "cell_type": "code",
   "execution_count": 2,
   "id": "26bed2e2",
   "metadata": {},
   "outputs": [],
   "source": [
    "def clean_text(text):\n",
    "    \"\"\"Clean up text by removing extra whitespace and newline characters.\"\"\"\n",
    "    return ' '.join(text.split()).replace('\\n', '').replace('\\t', '').replace('\\r', '')\n",
    "\n",
    "def get_page_data(url):\n",
    "    \"\"\"Scrape data from a given URL and extract readable markdown-style content.\"\"\"\n",
    "    try:\n",
    "        response = requests.get(url)\n",
    "        response.raise_for_status()\n",
    "        soup = BeautifulSoup(response.text, 'html.parser')\n",
    "\n",
    "        # select content\n",
    "        main_content = soup.select_one('.theme-doc-markdown.markdown')\n",
    "        if not main_content:\n",
    "            print(f\" No content found in: {url}\")\n",
    "            return None\n",
    "\n",
    "        # entire text\n",
    "        content = main_content.get_text(separator=\"\\n\", strip=True)\n",
    "\n",
    "        return {\n",
    "            'url': url,\n",
    "            'content': clean_text(content)\n",
    "        }\n",
    "\n",
    "    except Exception as err:\n",
    "        print(f\" Error scraping {url}: {err}\")\n",
    "        return None\n",
    "\n",
    "   "
   ]
  },
  {
   "cell_type": "code",
   "execution_count": 3,
   "id": "7da7ba79",
   "metadata": {},
   "outputs": [],
   "source": [
    "def scrape_all_pages(urls):\n",
    "    \"\"\"Main function to initiate web scraping.\"\"\"\n",
    "    print(\"Starting web scraping...\")\n",
    "    data = []\n",
    "    total_urls = len(urls)\n",
    "\n",
    "    for index, url in enumerate(urls, start=1):\n",
    "        page_data = get_page_data(url)\n",
    "        if page_data:\n",
    "            print(f\"{url}: {len(page_data['content'])} characters scraped\")\n",
    "            data.append(page_data)\n",
    "        print(f\"Progress: {index}/{total_urls} URLs scraped\")\n",
    "\n",
    "    return data\n",
    "\n",
    "def read_urls_from_file(file_path):\n",
    "    try:\n",
    "        if os.path.isfile(file_path):\n",
    "            with open(file_path, 'r', encoding='utf-8') as file:\n",
    "                return file.read().splitlines()\n",
    "        else:\n",
    "            raise FileNotFoundError(f\"{file_path} not found or is not a allowed file type.\")\n",
    "    except Exception as e:\n",
    "        print(f\"Error reading file: {e}\")\n",
    "        return []\n",
    "\n",
    "def results_to_file(data, output_dir='./out', output_file='result.json'):\n",
    "    #save result to json file \n",
    "    try:\n",
    "        if not os.path.exists(output_dir):\n",
    "            os.makedirs(output_dir)\n",
    "\n",
    "        file_path = os.path.join(output_dir, output_file)\n",
    "\n",
    "        if os.path.exists(file_path):\n",
    "            os.remove(file_path)\n",
    "\n",
    "        formatted_data = [\n",
    "            {'url': item['url'], 'content': item['content']}\n",
    "            for item in data\n",
    "        ]\n",
    "\n",
    "        with open(file_path, 'w', encoding='utf-8') as f:\n",
    "            json.dump(formatted_data, f, ensure_ascii=False, indent=4)\n",
    "\n",
    "        total_characters = sum(len(item['content']) for item in data)\n",
    "        print(f\"Total of {total_characters} characters scraped and saved in [{output_file}] format to {file_path}!\")\n",
    "    except Exception as err:\n",
    "        print(f\"Error writing to file: {err}\")\n"
   ]
  },
  {
   "cell_type": "code",
   "execution_count": 11,
   "id": "52f1e4d4",
   "metadata": {
    "scrolled": true
   },
   "outputs": [
    {
     "name": "stdout",
     "output_type": "stream",
     "text": [
      "Starting web scraping...\n",
      "https://python.langchain.com/docs/introduction/: 4637 characters scraped\n",
      "Progress: 1/1 URLs scraped\n",
      "Total of 4637 characters scraped and saved in [result.json] format to ./out/result.json!\n"
     ]
    }
   ],
   "source": [
    "\n",
    "# Main execution\n",
    "if __name__ == \"__main__\":\n",
    "    file_name = 'urls'\n",
    "    file_path = os.path.join(file_name)\n",
    "\n",
    "    urls = read_urls_from_file(file_path)\n",
    "\n",
    "    if urls:\n",
    "        scraped_data = scrape_all_pages(urls)\n",
    "        if scraped_data:\n",
    "            results_to_file(scraped_data)"
   ]
  },
  {
   "cell_type": "code",
   "execution_count": null,
   "id": "ef608761",
   "metadata": {},
   "outputs": [],
   "source": []
  },
  {
   "cell_type": "code",
   "execution_count": null,
   "id": "59ab9637",
   "metadata": {},
   "outputs": [],
   "source": []
  }
 ],
 "metadata": {
  "kernelspec": {
   "display_name": "Python 3 (ipykernel)",
   "language": "python",
   "name": "python3"
  },
  "language_info": {
   "codemirror_mode": {
    "name": "ipython",
    "version": 3
   },
   "file_extension": ".py",
   "mimetype": "text/x-python",
   "name": "python",
   "nbconvert_exporter": "python",
   "pygments_lexer": "ipython3",
   "version": "3.11.3"
  }
 },
 "nbformat": 4,
 "nbformat_minor": 5
}
